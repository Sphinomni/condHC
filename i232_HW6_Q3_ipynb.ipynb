{
  "nbformat": 4,
  "nbformat_minor": 0,
  "metadata": {
    "colab": {
      "name": "“i232_HW6_Q3.ipynb”的副本",
      "provenance": [],
      "collapsed_sections": [],
      "authorship_tag": "ABX9TyPjlgaDj92i4KsGE10OcBZ9",
      "include_colab_link": true
    },
    "kernelspec": {
      "name": "python3",
      "display_name": "Python 3"
    },
    "language_info": {
      "name": "python"
    }
  },
  "cells": [
    {
      "cell_type": "markdown",
      "metadata": {
        "id": "view-in-github",
        "colab_type": "text"
      },
      "source": [
        "<a href=\"https://colab.research.google.com/github/Sphinomni/condHC/blob/main/i232_HW6_Q3_ipynb.ipynb\" target=\"_parent\"><img src=\"https://colab.research.google.com/assets/colab-badge.svg\" alt=\"Open In Colab\"/></a>"
      ]
    },
    {
      "cell_type": "markdown",
      "source": [
        "# Homework6 Question 3\n",
        "\n",
        "This notebook is used to answer I232 Homework6 Question 3.\n",
        "\n",
        "Please change the inputs in the \"Inputs\" part. Then run all the code in this notebook. The final answer(1. a generated markov chain sample; 2. the conditional huffman code; 3. the recovered sample; 4. rate R per symbol) will be shown at the end of the notebook."
      ],
      "metadata": {
        "id": "jDce8hNwx3hJ"
      }
    },
    {
      "cell_type": "code",
      "source": [
        ""
      ],
      "metadata": {
        "id": "zuZqHYGY65mW"
      },
      "execution_count": null,
      "outputs": []
    },
    {
      "cell_type": "markdown",
      "source": [
        "## Inputs"
      ],
      "metadata": {
        "id": "7KEgIlzIc0lV"
      }
    },
    {
      "cell_type": "code",
      "execution_count": null,
      "metadata": {
        "id": "RCr-oyQGxx_e"
      },
      "outputs": [],
      "source": [
        "import numpy as np\n",
        "\n",
        "# the length of markov chain\n",
        "n = 8\n",
        "\n",
        "# the volumne of source symbol space\n",
        "m = 4\n",
        "\n",
        "# the initial probabilities of markov chain\n",
        "pX1 = np.array([1/2, 1/4, 1/8, 1/8])\n",
        "\n",
        "# the transition probabilities of markov chain\n",
        "P = np.array([\n",
        "     [1/2, 1/4, 1/8, 1/8],\n",
        "     [1/4, 1/8, 1/8, 1/2],\n",
        "     [1/8, 1/8, 1/2, 1/4],\n",
        "     [1/8, 1/2, 1/4, 1/8]\n",
        "])\n",
        "\n",
        "#### You can change this value to control whether random seed is used\n",
        "USE_RANDOM_SEED = False\n",
        "\n",
        "#### You can change this random seed value\n",
        "RSEED = 42\n",
        "\n",
        "#### Please don't change the following lines\n",
        "#### This line will generate the symbol space {1, 2, ..., m}\n",
        "symbols = [_ for _ in range(1,m+1)]"
      ]
    },
    {
      "cell_type": "markdown",
      "source": [
        "## Huffman Tree and Conditional Huffman Code Encoder/Decoder"
      ],
      "metadata": {
        "id": "szgfucNpc4z2"
      }
    },
    {
      "cell_type": "code",
      "source": [
        "################################################################################\n",
        "# Function Name: getHuffmanDicts\n",
        "# Description: Generate  the binary huffman code for input symbols with corresponding probs.\n",
        "# Input:\n",
        "#    symbols: list, the symbols to encode, e.g: [1,2,3,4]...\n",
        "#    probs: list, the probabilities of the symbols\n",
        "# Output:\n",
        "#    symbol2codeMap : map, keys are the symbols and values are the huffman codes\n",
        "#    code2symboldMap : map, keys are the huffman code and values are the symbols\n",
        "################################################################################\n",
        "def getHuffmanDicts(symbols, probs):\n",
        "\n",
        "  # huffman tree node to store infomation in the construction progress\n",
        "  class HuffmanTreeNode():\n",
        "    def __init__(self, symbol, prob, leftChild=None, rightChild=None):\n",
        "      self.leftChild = leftChild\n",
        "      self.rightChild = rightChild\n",
        "\n",
        "      self.symbol = symbol\n",
        "      self.prob = prob\n",
        "    \n",
        "    def __str__(self):\n",
        "      return \"({0}, {1})\".format(self.symbol,self.prob)\n",
        "\n",
        "    def isLeaf(self):\n",
        "      return self.leftChild is None and self.rightChild is None\n",
        "  \n",
        "  # combining two nodes and return a new parent node\n",
        "  def mergeNodes(n1, n2):\n",
        "    parent = HuffmanTreeNode(None, n1.prob + n2.prob, n1, n2)\n",
        "    return parent\n",
        "\n",
        "  def printHuffmanTree(node):\n",
        "    if node is None:\n",
        "      return\n",
        "    print(node.__str__(),end=\"\")\n",
        "    print(\"[\", end=\"\")\n",
        "    printHuffmanTree(node.leftChild)\n",
        "    print(\",\",end=\"\")\n",
        "    printHuffmanTree(node.rightChild)\n",
        "    print(\"]\", end=\"\")\n",
        "  \n",
        "  # creating a working list\n",
        "  treeNodes = [HuffmanTreeNode(symbol, prob) for symbol, prob in zip(symbols,probs)]\n",
        "  treeNodes = sorted(treeNodes, key=lambda x:x.prob, reverse=True)\n",
        "\n",
        "  # repeat constructing the huffman tree until there's no more than 1 node in the working list\n",
        "  while len(treeNodes) > 1:\n",
        "    # get the two nodes with smallest probs\n",
        "    n1 = treeNodes.pop()\n",
        "    n2 = treeNodes.pop()\n",
        "\n",
        "    # merge them into a new node\n",
        "    newTreeNode = mergeNodes(n1, n2)\n",
        "\n",
        "    # insert the new node to the working list\n",
        "    treeNodes.append(newTreeNode)\n",
        "    treeNodes = sorted(treeNodes, key=lambda x:x.prob, reverse=True)\n",
        "  \n",
        "  # get the root for the constructed huffman tree\n",
        "  # root = treeNodes[0]\n",
        "  # printHuffmanTree(root)\n",
        "\n",
        "  # repeat constructing huffman codes according to the huffman tree generated\n",
        "  symbol2codeMap, code2symbolMap = dict(),dict()\n",
        "  def generateHuffmanCodeForNode(node, prefix):\n",
        "    if node is None:\n",
        "      return\n",
        "    # if the node is a leaf , then the code for this leaf is stored in prefix\n",
        "    if node.isLeaf():\n",
        "      symbol2codeMap[node.symbol] = prefix\n",
        "      code2symbolMap[prefix] = node.symbol\n",
        "      return\n",
        "    # else, continue generating, mark route to left child as 1 and right as 0\n",
        "    generateHuffmanCodeForNode(node.leftChild, prefix + \"1\")\n",
        "    generateHuffmanCodeForNode(node.rightChild, prefix + \"0\")\n",
        "\n",
        "  generateHuffmanCodeForNode(treeNodes[0], \"\")\n",
        "  return symbol2codeMap, code2symbolMap\n",
        "\n",
        "################################################################################\n",
        "# Function Name: getCondHuffmanDicts\n",
        "# Description: Generate  the binary conditional huffman code \n",
        "#                   for input symbols with corresponding probs.\n",
        "# Input:\n",
        "#    symbols: list, the symbols to encode, e.g: [1,2,3,4]...\n",
        "#    Pinit: list, the initial probabilities of the symbols, P(X1)\n",
        "#    Ptrans: matrix, the conditional probabilities of a symbol, P(Xn|Xn-1)\n",
        "# Output:\n",
        "#    s2cMaps : list, the  symbol2code maps, s2cMaps[0] is the code based on PX1\n",
        "#    c2sMaps : likewise\n",
        "################################################################################\n",
        "def getCondHuffmanDicts(m, symbols, Pinit, Ptrans):\n",
        "  s2cMapInit, c2sMapInit = getHuffmanDicts(symbols, Pinit)\n",
        "\n",
        "  # the  symbol2code and code2symbol maps\n",
        "  # ...Maps[0] is the code based on the inital probs PX1\n",
        "  s2cMaps = [s2cMapInit]\n",
        "  c2sMaps = [c2sMapInit]\n",
        "\n",
        "  # generating the conditional huffman maps\n",
        "  for i in range(m):\n",
        "    s2cMapCond, c2sMapCond = getHuffmanDicts(symbols, Ptrans[:, i])\n",
        "    s2cMaps.append(s2cMapCond)\n",
        "    c2sMaps.append(c2sMapCond)\n",
        "  \n",
        "  return s2cMaps, c2sMaps\n",
        "\n",
        "################################################################################\n",
        "# Function Name: encode\n",
        "# Description: generate conditional huffman code\n",
        "# Input:\n",
        "#    seq: list, the plaintext message, e.g [1,2,3,4,2,2,1]\n",
        "#    s2cMaps: list, a list of symbol to conditional huffman code maps\n",
        "#    sep: str, a seperator between codes for each symbol, default none\n",
        "# Output:\n",
        "#    code: the conditional huffman code of the input plain text, with/without seperators\n",
        "################################################################################\n",
        "def encode(seq, s2cMaps, sep=\"\"):\n",
        "  code = \"\"\n",
        "  s2cMap = s2cMaps[0]\n",
        "\n",
        "  for i,symbol in enumerate(seq):\n",
        "    if i != 0:\n",
        "      code = code + sep + s2cMap[symbol]\n",
        "    else:\n",
        "      code = code + s2cMap[symbol]\n",
        "    s2cMap = s2cMaps[symbol]\n",
        "  \n",
        "  return code\n",
        "\n",
        "################################################################################\n",
        "# Function Name: decode\n",
        "# Description: decode from a conditional huffman code\n",
        "# Input:\n",
        "#    code: str, encoded sequence of 0 and 1, e.g \"01001110110100\"(without sep) \n",
        "#             or \"0 10 0 111 0 110 10 0\"(with sep = \" \")\n",
        "#    c2sMaps: list, a list of conditional huffman code to symbol maps\n",
        "#    sep: str, a seperator between codes for each symbol\n",
        "# Output:\n",
        "#    seq: the original message\n",
        "################################################################################\n",
        "def decode(code, c2sMaps, sep=\"\"):\n",
        "  # decode a code withou seps between symbols\n",
        "  def decode_without_sep(code, c2sMaps):\n",
        "        \n",
        "        seq_ = []\n",
        "        start = 0\n",
        "        end = start+1\n",
        "        c2sMap = c2sMaps[0]\n",
        "\n",
        "        while start < len(code):\n",
        "\n",
        "          # find the first matched code in the key set\n",
        "          while end < len(code) and code[start:end] not in c2sMap.keys():\n",
        "            end += 1\n",
        "\n",
        "          if code[start:end] in c2sMap.keys():\n",
        "            # map code to symbol\n",
        "            symbol = c2sMap[code[start:end]]\n",
        "            seq_.append(symbol)\n",
        "            c2sMap = c2sMaps[symbol]\n",
        "          else:\n",
        "            # the code sequence didn't end correctly\n",
        "            print(\"Error!\")\n",
        "          \n",
        "          start = end\n",
        "      \n",
        "        return seq_   \n",
        "\n",
        "  # decode the code seq with seps between symbols\n",
        "  def decode_with_sep(code, c2sMaps, sep):\n",
        "    codes = code.split(sep)\n",
        "    c2sMap = c2sMaps[0]\n",
        "    seq_ = []\n",
        "\n",
        "    for code4sym in codes:\n",
        "      symbol = c2sMap[code4sym]\n",
        "      seq_.append(symbol)\n",
        "      c2sMap = c2sMaps[symbol]\n",
        "\n",
        "    return seq_\n",
        "\n",
        "  # choose the decode scheme according to the sep\n",
        "  if sep is None or sep == \"\":\n",
        "    return decode_without_sep(code, c2sMaps)\n",
        "  else:\n",
        "    return decode_with_sep(code, c2sMaps, sep)"
      ],
      "metadata": {
        "id": "PEl5-4syywdV"
      },
      "execution_count": null,
      "outputs": []
    },
    {
      "cell_type": "code",
      "source": [
        "#Test case 1\n",
        "\n",
        "# Kai\n",
        "m_test = 4\n",
        "symbols_test = [_ for _ in range(1,m+1)]\n",
        "\n",
        "# Pinit\n",
        "pX1_test = np.array([1/2, 1/4, 1/8, 1/8])\n",
        "\n",
        "# Ptrans\n",
        "P_test = np.array([\n",
        "     [1/2, 1/4, 1/8, 1/8],\n",
        "     [1/4, 1/8, 1/8, 1/2],\n",
        "     [1/8, 1/8, 1/2, 1/4],\n",
        "     [1/8, 1/2, 1/4, 1/8]\n",
        "])\n",
        "\n",
        "# test input\n",
        "seq_test = [1,2,4,1,1,3,4,2]\n",
        "print(\"text:\\t\\t\",seq_test)\n",
        "\n",
        "# test\n",
        "s2cMaps, c2sMaps = getCondHuffmanDicts(m_test, symbols_test, pX1_test, P_test)\n",
        "\n",
        "code_test = encode(seq_test, s2cMaps)\n",
        "print(\"code:\\t\", code_test)\n",
        "seq_test_ = decode(code_test,c2sMaps)\n",
        "print(\"recover:\\t\",seq_test_)"
      ],
      "metadata": {
        "colab": {
          "base_uri": "https://localhost:8080/"
        },
        "id": "Zmm9x-VcegUT",
        "outputId": "69cb1c5e-a8e6-4067-a1d9-6bfdaad482aa"
      },
      "execution_count": null,
      "outputs": [
        {
          "output_type": "stream",
          "name": "stdout",
          "text": [
            "text:\t\t [1, 2, 4, 1, 1, 3, 4, 2]\n",
            "code:\t 01001100110100\n",
            "recover:\t [1, 2, 4, 1, 1, 3, 4, 2]\n"
          ]
        }
      ]
    },
    {
      "cell_type": "markdown",
      "source": [
        "## Experiment"
      ],
      "metadata": {
        "id": "hAwu1FNIdKfk"
      }
    },
    {
      "cell_type": "code",
      "source": [
        "# generate a markov chain according to pX1 and P\n",
        "def getSample(symbols, pX1, P, n):\n",
        "  from random import random\n",
        "  from numpy.random import choice\n",
        "\n",
        "  seq = []\n",
        "  # markov process\n",
        "  probs = pX1\n",
        "  for i in range(n):\n",
        "\n",
        "    # choose a symbol according to the initial Prob. or transition Prob.\n",
        "    ind = choice(range(len(symbols)), p=probs)\n",
        "    seq.append(symbols[ind])\n",
        "\n",
        "    # get Ptrans according to current symbol\n",
        "    probs = P[:, ind]\n",
        "  \n",
        "  return seq\n",
        "\n",
        "# check two sequences\n",
        "# 1. length\n",
        "# 2. value of each bit\n",
        "def checkAns(x, x_):\n",
        "  if len(x) != len(x_):\n",
        "    print(\"wrong length! should be {}, got {}\".format(len(x),len(x_)))\n",
        "    return False\n",
        "\n",
        "  retVal = True\n",
        "  for i,(xx,xx_) in enumerate(zip(x, x_)):\n",
        "    if (xx!=xx_):\n",
        "      print(\"different symbol at {}, should be {}, got {}\".format(i, xx,xx_))\n",
        "      retVal = False\n",
        "\n",
        "  return retVal\n",
        "\n"
      ],
      "metadata": {
        "id": "dsbS3JkPYDM6"
      },
      "execution_count": null,
      "outputs": []
    },
    {
      "cell_type": "code",
      "source": [
        "import numpy as np\n",
        "import random\n",
        "\n",
        "if USE_RANDOM_SEED:\n",
        "  random.seed(RSEED)\n",
        "  np.random.seed(RSEED)\n",
        "\n",
        "# step1: get a markov chain sample\n",
        "x = getSample(symbols, pX1, P, n)\n",
        "print(\"markov chain({}):\\t\\t\".format(n), x)\n",
        "\n",
        "# step2: encode x\n",
        "s2cMaps, c2sMaps = getCondHuffmanDicts(m,symbols, pX1, P)\n",
        "# print(s2cMaps)\n",
        "code = encode(x, s2cMaps)\n",
        "code_sep = encode(x, s2cMaps, sep=\" \")\n",
        "print(\"code:\\t\\t\\t\",code)\n",
        "print(\"code(with sep):\\t\\t\", code_sep)\n",
        "\n",
        "# step3: decode\n",
        "x_ = decode(code, c2sMaps)\n",
        "print(\"decoded:\\t\\t\\t\", x_)\n",
        "print(\"checked:\\t\\t\\t\",checkAns(x, x_))\n"
      ],
      "metadata": {
        "colab": {
          "base_uri": "https://localhost:8080/"
        },
        "id": "jPPeXb-9kynx",
        "outputId": "43c609f3-7a8d-4bd7-fb52-8784d0eabd70"
      },
      "execution_count": null,
      "outputs": [
        {
          "output_type": "stream",
          "name": "stdout",
          "text": [
            "markov chain(8):\t\t [3, 3, 4, 2, 3, 2, 1, 1]\n",
            "code:\t\t\t 1100100111111100\n",
            "code(with sep):\t\t 110 0 10 0 111 111 10 0\n",
            "decoded:\t\t\t [3, 3, 4, 2, 3, 2, 1, 1]\n",
            "checked:\t\t\t True\n"
          ]
        }
      ]
    }
  ]
}